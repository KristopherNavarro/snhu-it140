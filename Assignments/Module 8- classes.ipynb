{
 "cells": [
  {
   "cell_type": "code",
   "execution_count": 4,
   "metadata": {
    "collapsed": true
   },
   "outputs": [
    {
     "ename": "ModuleNotFoundError",
     "evalue": "No module named 'ASCIIArt'",
     "output_type": "error",
     "traceback": [
      "\u001B[1;31m---------------------------------------------------------------------------\u001B[0m",
      "\u001B[1;31mModuleNotFoundError\u001B[0m                       Traceback (most recent call last)",
      "Input \u001B[1;32mIn [4]\u001B[0m, in \u001B[0;36m<cell line: 1>\u001B[1;34m()\u001B[0m\n\u001B[1;32m----> 1\u001B[0m \u001B[38;5;28;01mimport\u001B[39;00m \u001B[38;5;21;01mASCIIArt\u001B[39;00m\n",
      "\u001B[1;31mModuleNotFoundError\u001B[0m: No module named 'ASCIIArt'"
     ]
    }
   ],
   "source": [
    "import ASCIIArt"
   ]
  },
  {
   "cell_type": "code",
   "execution_count": 2,
   "outputs": [
    {
     "name": "stdout",
     "output_type": "stream",
     "text": [
      "Collecting ASCIIArt\n",
      "  Downloading asciiart-0.2.tar.gz (3.2 kB)\n",
      "Requirement already satisfied: requests>=1.1.0 in c:\\users\\kristopher\\anaconda3\\lib\\site-packages (from ASCIIArt) (2.27.1)\n",
      "Requirement already satisfied: Pillow>=1.7.8 in c:\\users\\kristopher\\anaconda3\\lib\\site-packages (from ASCIIArt) (9.0.1)\n",
      "Requirement already satisfied: charset-normalizer~=2.0.0 in c:\\users\\kristopher\\anaconda3\\lib\\site-packages (from requests>=1.1.0->ASCIIArt) (2.0.4)\n",
      "Requirement already satisfied: certifi>=2017.4.17 in c:\\users\\kristopher\\anaconda3\\lib\\site-packages (from requests>=1.1.0->ASCIIArt) (2021.10.8)\n",
      "Requirement already satisfied: idna<4,>=2.5 in c:\\users\\kristopher\\anaconda3\\lib\\site-packages (from requests>=1.1.0->ASCIIArt) (3.3)\n",
      "Requirement already satisfied: urllib3<1.27,>=1.21.1 in c:\\users\\kristopher\\anaconda3\\lib\\site-packages (from requests>=1.1.0->ASCIIArt) (1.26.9)\n",
      "Building wheels for collected packages: ASCIIArt\n",
      "  Building wheel for ASCIIArt (setup.py): started\n",
      "  Building wheel for ASCIIArt (setup.py): finished with status 'done'\n",
      "  Created wheel for ASCIIArt: filename=asciiart-0.2-py3-none-any.whl size=4197 sha256=f9d7cf0b57a7d10af8d53247f48f191683c43bb5a80395bc8756634ed28127d8\n",
      "  Stored in directory: c:\\users\\kristopher\\appdata\\local\\pip\\cache\\wheels\\ca\\2e\\ff\\eecdd63bcb0ef716ece24ad92f44406f421c062faf657f3e56\n",
      "Successfully built ASCIIArt\n",
      "Installing collected packages: ASCIIArt\n",
      "Successfully installed ASCIIArt-0.2\n"
     ]
    }
   ],
   "source": [
    "!pip install ASCIIArt\n"
   ],
   "metadata": {
    "collapsed": false
   }
  }
 ],
 "metadata": {
  "kernelspec": {
   "display_name": "Python 3",
   "language": "python",
   "name": "python3"
  },
  "language_info": {
   "codemirror_mode": {
    "name": "ipython",
    "version": 2
   },
   "file_extension": ".py",
   "mimetype": "text/x-python",
   "name": "python",
   "nbconvert_exporter": "python",
   "pygments_lexer": "ipython2",
   "version": "2.7.6"
  }
 },
 "nbformat": 4,
 "nbformat_minor": 0
}
