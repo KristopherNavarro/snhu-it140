{
 "cells": [
  {
   "cell_type": "code",
   "execution_count": 8,
   "metadata": {
    "collapsed": true,
    "ExecuteTime": {
     "start_time": "2023-04-18T12:54:39.332309Z",
     "end_time": "2023-04-18T12:54:39.410887Z"
    }
   },
   "outputs": [
    {
     "data": {
      "text/plain": "             created_at                                    id  \\\n0  2023-02-07T11:17:26Z  shp_7fc71582ccc94ef3b64c0a67befeb863   \n1  2023-02-07T12:43:52Z  shp_4e07e7bc093e4931ab5966354a9da709   \n2  2023-02-07T13:03:00Z  shp_1da76c2af7714a63810c64e4ac6984fc   \n3  2023-02-07T20:12:55Z  shp_749c3083a4ab449b8a7249c81372e899   \n4  2023-02-07T21:34:54Z  shp_e73eb8624e8644b6834741207474616e   \n\n            tracking_code     status                       from_address_id  \\\n0  9400136106023414092049  delivered  adr_fff16210a6d811eda635ac1f6bc72124   \n1  9461236106023414277659  delivered  adr_1322f146a6e511edb9fdac1f6bc7b362   \n2  9461236106023414340520  delivered  adr_bfc4b84aa6e711edbcceac1f6bc72124   \n3      1Z2YY8930396002500  delivered  adr_ce8a678da72311eda443ac1f6b0a0d1e   \n4  9461236106023418315180  delivered  adr_427d28a7a72f11ed8c34ac1f6bc72124   \n\n               from_name  from_company          from_street1  from_street2  \\\n0          NURSING QUEEN           NaN  206 OAK MOUNTAIN CIR           NaN   \n1          NURSING QUEEN           NaN  206 OAK MOUNTAIN CIR           NaN   \n2          NURSING QUEEN           NaN  206 OAK MOUNTAIN CIR           NaN   \n3  Rebecca van Wingerden           NaN        15639 BAIRD RD           NaN   \n4          NURSING QUEEN           NaN  206 OAK MOUNTAIN CIR           NaN   \n\n  from_city  ... carrier  rate insured_value is_return refund_status  \\\n0    PELHAM  ...    USPS  4.62           NaN      True           NaN   \n1    PELHAM  ...    USPS  9.58           NaN      True           NaN   \n2    PELHAM  ...    USPS  7.95           NaN      True           NaN   \n3   OBERLIN  ...  UPSDAP  8.04           NaN     False           NaN   \n4    PELHAM  ...    USPS  8.22           NaN      True           NaN   \n\n  reference  label_fee postage_fee insurance_fee  \\\n0      3432   $0.00000    $4.62000           NaN   \n1      3432   $0.00000    $9.58000           NaN   \n2      3432   $0.00000    $7.95000           NaN   \n3      3432   $0.00000    $8.04000           NaN   \n4      3432   $0.00000    $8.22000           NaN   \n\n                                             options  \n0  {\"invoice_number\":\"#64560\",\"print_custom_1\":\"#...  \n1  {\"invoice_number\":\"#65100\",\"print_custom_1\":\"#...  \n2  {\"invoice_number\":\"#65156\",\"print_custom_1\":\"#...  \n3  {\"invoice_number\":\"#65519\",\"print_custom_1\":\"#...  \n4  {\"invoice_number\":\"#65536\",\"print_custom_1\":\"#...  \n\n[5 rows x 43 columns]",
      "text/html": "<div>\n<style scoped>\n    .dataframe tbody tr th:only-of-type {\n        vertical-align: middle;\n    }\n\n    .dataframe tbody tr th {\n        vertical-align: top;\n    }\n\n    .dataframe thead th {\n        text-align: right;\n    }\n</style>\n<table border=\"1\" class=\"dataframe\">\n  <thead>\n    <tr style=\"text-align: right;\">\n      <th></th>\n      <th>created_at</th>\n      <th>id</th>\n      <th>tracking_code</th>\n      <th>status</th>\n      <th>from_address_id</th>\n      <th>from_name</th>\n      <th>from_company</th>\n      <th>from_street1</th>\n      <th>from_street2</th>\n      <th>from_city</th>\n      <th>...</th>\n      <th>carrier</th>\n      <th>rate</th>\n      <th>insured_value</th>\n      <th>is_return</th>\n      <th>refund_status</th>\n      <th>reference</th>\n      <th>label_fee</th>\n      <th>postage_fee</th>\n      <th>insurance_fee</th>\n      <th>options</th>\n    </tr>\n  </thead>\n  <tbody>\n    <tr>\n      <th>0</th>\n      <td>2023-02-07T11:17:26Z</td>\n      <td>shp_7fc71582ccc94ef3b64c0a67befeb863</td>\n      <td>9400136106023414092049</td>\n      <td>delivered</td>\n      <td>adr_fff16210a6d811eda635ac1f6bc72124</td>\n      <td>NURSING QUEEN</td>\n      <td>NaN</td>\n      <td>206 OAK MOUNTAIN CIR</td>\n      <td>NaN</td>\n      <td>PELHAM</td>\n      <td>...</td>\n      <td>USPS</td>\n      <td>4.62</td>\n      <td>NaN</td>\n      <td>True</td>\n      <td>NaN</td>\n      <td>3432</td>\n      <td>$0.00000</td>\n      <td>$4.62000</td>\n      <td>NaN</td>\n      <td>{\"invoice_number\":\"#64560\",\"print_custom_1\":\"#...</td>\n    </tr>\n    <tr>\n      <th>1</th>\n      <td>2023-02-07T12:43:52Z</td>\n      <td>shp_4e07e7bc093e4931ab5966354a9da709</td>\n      <td>9461236106023414277659</td>\n      <td>delivered</td>\n      <td>adr_1322f146a6e511edb9fdac1f6bc7b362</td>\n      <td>NURSING QUEEN</td>\n      <td>NaN</td>\n      <td>206 OAK MOUNTAIN CIR</td>\n      <td>NaN</td>\n      <td>PELHAM</td>\n      <td>...</td>\n      <td>USPS</td>\n      <td>9.58</td>\n      <td>NaN</td>\n      <td>True</td>\n      <td>NaN</td>\n      <td>3432</td>\n      <td>$0.00000</td>\n      <td>$9.58000</td>\n      <td>NaN</td>\n      <td>{\"invoice_number\":\"#65100\",\"print_custom_1\":\"#...</td>\n    </tr>\n    <tr>\n      <th>2</th>\n      <td>2023-02-07T13:03:00Z</td>\n      <td>shp_1da76c2af7714a63810c64e4ac6984fc</td>\n      <td>9461236106023414340520</td>\n      <td>delivered</td>\n      <td>adr_bfc4b84aa6e711edbcceac1f6bc72124</td>\n      <td>NURSING QUEEN</td>\n      <td>NaN</td>\n      <td>206 OAK MOUNTAIN CIR</td>\n      <td>NaN</td>\n      <td>PELHAM</td>\n      <td>...</td>\n      <td>USPS</td>\n      <td>7.95</td>\n      <td>NaN</td>\n      <td>True</td>\n      <td>NaN</td>\n      <td>3432</td>\n      <td>$0.00000</td>\n      <td>$7.95000</td>\n      <td>NaN</td>\n      <td>{\"invoice_number\":\"#65156\",\"print_custom_1\":\"#...</td>\n    </tr>\n    <tr>\n      <th>3</th>\n      <td>2023-02-07T20:12:55Z</td>\n      <td>shp_749c3083a4ab449b8a7249c81372e899</td>\n      <td>1Z2YY8930396002500</td>\n      <td>delivered</td>\n      <td>adr_ce8a678da72311eda443ac1f6b0a0d1e</td>\n      <td>Rebecca van Wingerden</td>\n      <td>NaN</td>\n      <td>15639 BAIRD RD</td>\n      <td>NaN</td>\n      <td>OBERLIN</td>\n      <td>...</td>\n      <td>UPSDAP</td>\n      <td>8.04</td>\n      <td>NaN</td>\n      <td>False</td>\n      <td>NaN</td>\n      <td>3432</td>\n      <td>$0.00000</td>\n      <td>$8.04000</td>\n      <td>NaN</td>\n      <td>{\"invoice_number\":\"#65519\",\"print_custom_1\":\"#...</td>\n    </tr>\n    <tr>\n      <th>4</th>\n      <td>2023-02-07T21:34:54Z</td>\n      <td>shp_e73eb8624e8644b6834741207474616e</td>\n      <td>9461236106023418315180</td>\n      <td>delivered</td>\n      <td>adr_427d28a7a72f11ed8c34ac1f6bc72124</td>\n      <td>NURSING QUEEN</td>\n      <td>NaN</td>\n      <td>206 OAK MOUNTAIN CIR</td>\n      <td>NaN</td>\n      <td>PELHAM</td>\n      <td>...</td>\n      <td>USPS</td>\n      <td>8.22</td>\n      <td>NaN</td>\n      <td>True</td>\n      <td>NaN</td>\n      <td>3432</td>\n      <td>$0.00000</td>\n      <td>$8.22000</td>\n      <td>NaN</td>\n      <td>{\"invoice_number\":\"#65536\",\"print_custom_1\":\"#...</td>\n    </tr>\n  </tbody>\n</table>\n<p>5 rows × 43 columns</p>\n</div>"
     },
     "execution_count": 8,
     "metadata": {},
     "output_type": "execute_result"
    }
   ],
   "source": [
    "import pandas as pd\n",
    "df = pd.read_csv(\"C:/Users/Kristopher/Projects/Upwork/USPS_TrackingCodes_017a00c07f7271e3b8\\easypost-shipments-20230207-20230309.csv\")\n",
    "df.head()"
   ]
  },
  {
   "cell_type": "code",
   "execution_count": 9,
   "outputs": [
    {
     "data": {
      "text/plain": "'9400136106023414092049'"
     },
     "execution_count": 9,
     "metadata": {},
     "output_type": "execute_result"
    }
   ],
   "source": [
    "df['tracking_code'][0]"
   ],
   "metadata": {
    "collapsed": false,
    "ExecuteTime": {
     "start_time": "2023-04-18T13:28:03.376578Z",
     "end_time": "2023-04-18T13:28:03.386046Z"
    }
   }
  },
  {
   "cell_type": "code",
   "execution_count": null,
   "outputs": [],
   "source": [],
   "metadata": {
    "collapsed": false
   }
  }
 ],
 "metadata": {
  "kernelspec": {
   "display_name": "Python 3",
   "language": "python",
   "name": "python3"
  },
  "language_info": {
   "codemirror_mode": {
    "name": "ipython",
    "version": 2
   },
   "file_extension": ".py",
   "mimetype": "text/x-python",
   "name": "python",
   "nbconvert_exporter": "python",
   "pygments_lexer": "ipython2",
   "version": "2.7.6"
  }
 },
 "nbformat": 4,
 "nbformat_minor": 0
}
