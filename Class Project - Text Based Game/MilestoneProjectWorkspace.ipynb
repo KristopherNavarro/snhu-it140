{
 "cells": [
  {
   "cell_type": "markdown",
   "source": [
    "# Milestone Project - Text Based Game\n",
    "--- <b>Project Documentation and Testing</b> ---\n",
    "\n",
    "The purpose of this notebook is to be a repository of notes and test code for the final project of SNHU course IT-140-23EW4. I will be documenting ideas and testing theoretical approaches to my game design. The code written in this notebook will then be compiled into a <code>.py</code> file for final submission.\n"
   ],
   "metadata": {
    "collapsed": false
   }
  },
  {
   "cell_type": "markdown",
   "source": [
    "## Inventory and Attributes\n",
    "### Character Health & Inventory\n",
    "During zyBooks lesson 2.2 we learned about <code>namedtuple</code>s. This sparked some thinking regarding how to handle an inventory system in the game. Upon testing visualizations for inventory, it became clear that sticking with a <code>dict</code> is likely the most direct solution.\n",
    "\n",
    "Inventory can easily be handled as a <code>dict</code>, but <i>health</i> and <i>magic</i> should be assigned as integers (these will need to be handled appropriately for visualization, see 'Visualizing Inventory and Attributes')."
   ],
   "metadata": {
    "collapsed": false
   }
  },
  {
   "cell_type": "code",
   "execution_count": 81,
   "outputs": [],
   "source": [
    "\n",
    "\n",
    "health = 4\n",
    "magic  = 4\n",
    "inventory = {'slot1':'candle',\n",
    "             'slot2':'fire',\n",
    "             'slot3':'crossbow'}\n",
    "\n",
    "# See Visualizing Inventory and Attributes"
   ],
   "metadata": {
    "collapsed": false
   }
  },
  {
   "cell_type": "markdown",
   "source": [
    "### Inventory Discovery"
   ],
   "metadata": {
    "collapsed": false
   }
  },
  {
   "cell_type": "code",
   "execution_count": null,
   "outputs": [],
   "source": [
    "room_items ="
   ],
   "metadata": {
    "collapsed": false
   }
  },
  {
   "cell_type": "markdown",
   "source": [
    "## Navigation and Mapping\n",
    "\n",
    "It occurs to me that nested <code>dict</code>s might also be the way to go for managing navigation and mapping. \n"
   ],
   "metadata": {
    "collapsed": false
   }
  },
  {
   "cell_type": "code",
   "execution_count": 130,
   "outputs": [],
   "source": [
    "map =   {'Foyer':{\n",
    "            'south':'Great Hall'\n",
    "            },\n",
    "        'Great Hall':{\n",
    "            'north':'Entry',\n",
    "            'west':'Study',\n",
    "            'east':'Lavatory'\n",
    "            },\n",
    "        'Study':{\n",
    "            'east':'Great Hall',\n",
    "            'south':'Secret Passage!'\n",
    "            },\n",
    "        'Lavatory':{\n",
    "            'west':'Great Hall'\n",
    "            }\n",
    "        }\n"
   ],
   "metadata": {
    "collapsed": false
   }
  },
  {
   "cell_type": "code",
   "execution_count": 134,
   "outputs": [],
   "source": [
    "current_room = 'Foyer'\n",
    "bread_crumbs = ['Foyer']\n",
    "cardinal_short = {'north':'N','south':'S','east':'E','west':'W'}\n",
    "\n",
    "# Create a function that handles player's movement from room to room.\n",
    "# It will take one argument, the direction the player wishes to travel\n",
    "# it will retrieve the current_room then parse the 'map' dict for first the current_room then the direction headed to get the next room\n",
    "# It will print out a confirmation of heading and the name of the new room\n",
    "# append the new room to a list that saves all the previous rooms traveled\n",
    "\n",
    "def move(direction):\n",
    "    global current_room\n",
    "    global map\n",
    "\n",
    "    moving_to = map[current_room][direction]\n",
    "    bread_crumbs.append(cardinal_short[direction])\n",
    "    bread_crumbs.append(moving_to)\n",
    "    current_room = moving_to\n",
    "    Typewriter.med(f'''\n",
    "Heading... {direction}...\n",
    "...\n",
    "Current room: {current_room}\n",
    "Last room: {bread_crumbs[-3]}''')\n"
   ],
   "metadata": {
    "collapsed": false
   }
  },
  {
   "cell_type": "code",
   "execution_count": 132,
   "outputs": [
    {
     "name": "stdout",
     "output_type": "stream",
     "text": [
      "Foyer\n"
     ]
    }
   ],
   "source": [
    "print(current_room)"
   ],
   "metadata": {
    "collapsed": false
   }
  },
  {
   "cell_type": "code",
   "execution_count": 135,
   "outputs": [
    {
     "name": "stdout",
     "output_type": "stream",
     "text": [
      "\n",
      "Heading... south...\n",
      "...\n",
      "Current room: Great Hall\n",
      "Last room: Foyer"
     ]
    }
   ],
   "source": [
    "move(input('Which direction? '))"
   ],
   "metadata": {
    "collapsed": false
   }
  },
  {
   "cell_type": "code",
   "execution_count": 129,
   "outputs": [
    {
     "name": "stdout",
     "output_type": "stream",
     "text": [
      "['Foyer', 'S', 'Great Hall']\n"
     ]
    }
   ],
   "source": [
    "print(bread_crumbs)"
   ],
   "metadata": {
    "collapsed": false
   }
  },
  {
   "cell_type": "markdown",
   "source": [
    "## Visualizations\n",
    "### Typewriter effect\n",
    "While looking up how to create a simple animation like the spinning bar ( -\\\\|/-\\\\|/- ), I stumbled upon a typewriter effect using the <code>sleep</code> module from the <code>time</code> package. Here is the StackOverflow link:\n",
    "[StackOverflow - create-a-typewriter-effect-animation-for-strings-in-python](https://stackoverflow.com/questions/19911346/create-a-typewriter-effect-animation-for-strings-in-python)"
   ],
   "metadata": {
    "collapsed": false
   }
  },
  {
   "cell_type": "code",
   "execution_count": 95,
   "outputs": [
    {
     "name": "stdout",
     "output_type": "stream",
     "text": [
      "I am writing this on a typewriter..."
     ]
    }
   ],
   "source": [
    "from time import sleep\n",
    "\n",
    "test_string = 'I am writing this on a typewriter...'\n",
    "\n",
    "for ch in test_string:\n",
    "\n",
    "    print(ch, end='',flush=True)\n",
    "    sleep(0.05)"
   ],
   "metadata": {
    "collapsed": false
   }
  },
  {
   "cell_type": "markdown",
   "source": [
    "That turned out well. If the <code>flush</code> parameter is left out, then the print function buffers, which causes some of the printed characters to appear at seemingly the same time. It just didn't look right, but having varying <code>sleep</code> times for each character would help it seem more natural. Luckily in the same thread was the answer to this:"
   ],
   "metadata": {
    "collapsed": false
   }
  },
  {
   "cell_type": "code",
   "execution_count": 92,
   "outputs": [],
   "source": [
    "from random import uniform\n",
    "from time import sleep\n",
    "\n",
    "test_string2 = 'I am writing this on a typewriter... really, I am!'\n",
    "\n",
    "# The following function started off as just a for-loop\n",
    "#\n",
    "## UPDATE: this is depreciated, Typewriter is now a Class.\n",
    "#\n",
    "# def typewriter(string):\n",
    "#     for ch in string:\n",
    "#         variability.append(utc_timestamp()) # the code related to time-studies is below\n",
    "#         print(ch, end='', flush=True)\n",
    "#         sleep(uniform(0.01,0.2))\n",
    "\n"
   ],
   "metadata": {
    "collapsed": false
   }
  },
  {
   "cell_type": "markdown",
   "source": [
    "This works great, but as seen below in the <code>backpack</code> printout, the sleep variability needs to be adjusted based on when the <code>typewriter</code> function is called. This is probably a good opportunity to play around with <code>Classes</code>."
   ],
   "metadata": {
    "collapsed": false
   }
  },
  {
   "cell_type": "code",
   "execution_count": 121,
   "outputs": [],
   "source": [
    "class Typewriter:\n",
    "    ''' Iterates over a string and prints with a varying pause between each character to mimmick a typewriter.\n",
    "\n",
    "    All methods append a UTC timestamp to a global list named 'variability' at the beginning of each iteration.\n",
    "\n",
    "    --slow():\n",
    "        prints at a slow speed\n",
    "\n",
    "    -- med():\n",
    "        prints at a medium speed\n",
    "\n",
    "    -- fast():\n",
    "        prints at a fast speed\n",
    "\n",
    "    '''\n",
    "    def slow(self):\n",
    "        global variability\n",
    "        for ch in self:\n",
    "            variability.append(utc_timestamp()) # See section: Time-Study\n",
    "            print(ch, end='', flush=True)\n",
    "            sleep(uniform(0.1,0.25))\n",
    "\n",
    "    def med(self):\n",
    "        for ch in self:\n",
    "            variability.append(utc_timestamp()) # See section: Time-Study\n",
    "            print(ch, end='', flush=True)\n",
    "            sleep(uniform(0.01,0.2))\n",
    "\n",
    "    def fast(self):\n",
    "        for ch in self:\n",
    "            variability.append(utc_timestamp()) # See section: Time-Study\n",
    "            print(ch, end='', flush=True)\n",
    "            sleep(uniform(0.001,0.01))"
   ],
   "metadata": {
    "collapsed": false
   }
  },
  {
   "cell_type": "markdown",
   "source": [
    "Now time to try it out with the <code>test_string</code> variable."
   ],
   "metadata": {
    "collapsed": false
   }
  },
  {
   "cell_type": "code",
   "execution_count": 116,
   "outputs": [
    {
     "name": "stdout",
     "output_type": "stream",
     "text": [
      "I am writing this on a typewriter..."
     ]
    }
   ],
   "source": [
    "Typewriter.slow(test_string)"
   ],
   "metadata": {
    "collapsed": false
   }
  },
  {
   "cell_type": "code",
   "execution_count": 113,
   "outputs": [
    {
     "name": "stdout",
     "output_type": "stream",
     "text": [
      "I am writing this on a typewriter..."
     ]
    }
   ],
   "source": [
    "Typewriter.med(test_string)"
   ],
   "metadata": {
    "collapsed": false
   }
  },
  {
   "cell_type": "code",
   "execution_count": 107,
   "outputs": [
    {
     "name": "stdout",
     "output_type": "stream",
     "text": [
      "\n",
      "    _____        _____\n",
      "   / /  \\ \\     / /  \\ \\\n",
      "  / /   /-----------------\\\n",
      " / /   |\\________@________/|\n",
      "| |    |  Health [ *    ]  |\n",
      "| |    |  Magic  [ **   ]  |\n",
      "| |    |  ---------------  |\n",
      "| |    |  Slot 1 [candle]  |\n",
      "| |    |  Slot 2 [fire  ]  |\n",
      " \\ \\   |  Slot 3 [crossb]  |\n",
      "   \\\\_//\\_________________/\n",
      "\n"
     ]
    }
   ],
   "source": [
    "Typewriter.fast(backpack)"
   ],
   "metadata": {
    "collapsed": false
   }
  },
  {
   "cell_type": "markdown",
   "source": [
    "Nice, that worked, and on the first try!"
   ],
   "metadata": {
    "collapsed": false
   }
  },
  {
   "cell_type": "markdown",
   "source": [
    "### Visualizing Inventory and Attributes\n",
    "Health and magic are both assigned as integers, but must bevisualized with asterix upon printing. This can be easily done by multiplying either variable by ‘*’."
   ],
   "metadata": {
    "collapsed": false
   }
  },
  {
   "cell_type": "code",
   "execution_count": 80,
   "outputs": [
    {
     "name": "stdout",
     "output_type": "stream",
     "text": [
      "\n",
      "    _____        _____\n",
      "   / /  \\ \\     / /  \\ \\\n",
      "  / /   /-----------------\\\n",
      " / /   |\\________@________/|\n",
      "| |    |  Health [ *    ]  |\n",
      "| |    |  Magic  [ **   ]  |\n",
      "| |    |  ---------------  |\n",
      "| |    |  Slot 1 [candle]  |\n",
      "| |    |  Slot 2 [fire  ]  |\n",
      " \\ \\   |  Slot 3 [crossb]  |\n",
      "   \\\\_//\\_________________/\n",
      "\n",
      "\n"
     ]
    }
   ],
   "source": [
    "health_visual = health * '*'\n",
    "magic_visual  = magic * '*'\n",
    "\n",
    "# Use the .format method to ensure the attributes and inventory\n",
    "# items do not affect the overall look of the ascii image.\n",
    "# create a function for easy calling:\n",
    "\n",
    "backpack = rf'''\n",
    "    _____        _____\n",
    "   / /  \\ \\     / /  \\ \\\n",
    "  / /   /-----------------\\\n",
    " / /   |\\________@________/|\n",
    "| |    |  Health [ {'{:<4}'.format(health_visual)} ]  |\n",
    "| |    |  Magic  [ {'{:<4}'.format(magic_visual)} ]  |\n",
    "| |    |  ---------------  |\n",
    "| |    |  Slot 1 [{'{:<6}'.format(inventory['slot1'][:6])}]  |\n",
    "| |    |  Slot 2 [{'{:<6}'.format(inventory['slot2'][:6])}]  |\n",
    " \\ \\   |  Slot 3 [{'{:<6}'.format(inventory['slot3'][:6])}]  |\n",
    "   \\\\_//\\_________________/\n",
    "\n",
    "'''\n",
    "\n",
    "print(backpack)"
   ],
   "metadata": {
    "collapsed": false
   }
  },
  {
   "cell_type": "markdown",
   "source": [
    "Let's try to print the <code>backpack</code> inventory visualization with the <code>typewriter</code> function:"
   ],
   "metadata": {
    "collapsed": false
   }
  },
  {
   "cell_type": "code",
   "execution_count": 93,
   "outputs": [
    {
     "name": "stdout",
     "output_type": "stream",
     "text": [
      "\n",
      "    _____        _____\n",
      "   / /  \\ \\     / /  \\ \\\n",
      "  / /   /-----------------\\\n",
      " / /   |\\________@________/|\n",
      "| |    |  Health [ *    ]  |\n",
      "| |    |  Magic  [ **   ]  |\n",
      "| |    |  ---------------  |\n",
      "| |    |  Slot 1 [candle]  |\n",
      "| |    |  Slot 2 [fire  ]  |\n",
      " \\ \\   |  Slot 3 [crossb]  |\n",
      "   \\\\_//\\_________________/\n",
      "\n"
     ]
    }
   ],
   "source": [
    "typewriter(backpack)"
   ],
   "metadata": {
    "collapsed": false
   }
  },
  {
   "cell_type": "markdown",
   "source": [
    "## Time-study\n",
    "Semi-unrelated to this project, I would like to test the variability created by the <code>sleep.uniform()</code> method. After testing a few different ways, creating a function that returns a UTC timestamp is probably the most efficient option as of now."
   ],
   "metadata": {
    "collapsed": false
   }
  },
  {
   "cell_type": "code",
   "execution_count": 122,
   "outputs": [],
   "source": [
    "from datetime import datetime\n",
    "from datetime import timezone\n",
    "variability = []\n",
    "\n",
    "def utc_timestamp():\n",
    "    dt = datetime.utcnow()\n",
    "    utc_time = dt.replace(tzinfo=timezone.utc)\n",
    "    utc_timestamp = utc_time.timestamp()\n",
    "    utc_timestamp_truncated = float(str(utc_timestamp)[7:])\n",
    "    return utc_timestamp_truncated"
   ],
   "metadata": {
    "collapsed": false
   }
  },
  {
   "cell_type": "markdown",
   "source": [
    "Now to test out the <code>typwriter</code> function:"
   ],
   "metadata": {
    "collapsed": false
   }
  },
  {
   "cell_type": "code",
   "execution_count": 123,
   "outputs": [
    {
     "name": "stdout",
     "output_type": "stream",
     "text": [
      "There was a still-life on Billy Pilgrim's side table."
     ]
    }
   ],
   "source": [
    "typewriter_test = 'There was a still-life on Billy Pilgrim\\'s side table.'\n",
    "\n",
    "Typewriter.slow(typewriter_test)"
   ],
   "metadata": {
    "collapsed": false
   }
  },
  {
   "cell_type": "code",
   "execution_count": 124,
   "outputs": [
    {
     "name": "stdout",
     "output_type": "stream",
     "text": [
      "[970.39756,\n",
      " 970.60553,\n",
      " 970.742316,\n",
      " 970.915465,\n",
      " 971.121187,\n",
      " 971.383533,\n",
      " 971.541874,\n",
      " 971.668928,\n",
      " 971.88397,\n",
      " 972.090647,\n",
      " 972.24173,\n",
      " 972.399611,\n",
      " 972.590215,\n",
      " 972.741677,\n",
      " 972.996402,\n",
      " 973.107222,\n",
      " 973.355701,\n",
      " 973.576853,\n",
      " 973.808497,\n",
      " 973.919368,\n",
      " 974.170839,\n",
      " 974.423367,\n",
      " 974.54792,\n",
      " 974.672331,\n",
      " 974.887404,\n",
      " 975.107095,\n",
      " 975.307725,\n",
      " 975.55866,\n",
      " 975.792563,\n",
      " 975.900588,\n",
      " 976.128446,\n",
      " 976.315883,\n",
      " 976.536361,\n",
      " 976.677633,\n",
      " 976.880418,\n",
      " 977.09839,\n",
      " 977.251146,\n",
      " 977.500251,\n",
      " 977.626807,\n",
      " 977.82564,\n",
      " 977.966977,\n",
      " 978.172584,\n",
      " 978.308516,\n",
      " 978.449777,\n",
      " 978.687526,\n",
      " 978.918144,\n",
      " 979.091044,\n",
      " 979.217939,\n",
      " 979.384073,\n",
      " 979.508322,\n",
      " 979.714423,\n",
      " 979.960263,\n",
      " 980.071356]\n"
     ]
    }
   ],
   "source": [
    "from pprint import pprint\n",
    "pprint(variability)"
   ],
   "metadata": {
    "collapsed": false
   }
  },
  {
   "cell_type": "markdown",
   "source": [
    "## Error Handling\n",
    "The first error I potentially see popping up is a <code>KeyError</code> where the user provides a non-existant key for the direction they wish to move.\n",
    "\n",
    "Example: The starting room is the 'Foyer' with only the direction 'south' available, anything else will raise a <code>KeyError</code>."
   ],
   "metadata": {
    "collapsed": false
   }
  }
 ],
 "metadata": {
  "kernelspec": {
   "display_name": "Python 3",
   "language": "python",
   "name": "python3"
  },
  "language_info": {
   "codemirror_mode": {
    "name": "ipython",
    "version": 2
   },
   "file_extension": ".py",
   "mimetype": "text/x-python",
   "name": "python",
   "nbconvert_exporter": "python",
   "pygments_lexer": "ipython2",
   "version": "2.7.6"
  }
 },
 "nbformat": 4,
 "nbformat_minor": 0
}
