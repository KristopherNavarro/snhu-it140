{
 "cells": [
  {
   "cell_type": "markdown",
   "source": [
    "# Milestone Project - Text Based Game\n",
    "### Project Documentation and Testing\n",
    "The purpose of this notebook is to be a repository of notes and test code for the final project of SNHU course IT-140-23EW4. I will be documenting ideas and testing theoretical approaches to my game design. The code written in this notebook will then be compiled into a <code>.py</code> file for final submission.\n"
   ],
   "metadata": {
    "collapsed": false
   }
  }
 ],
 "metadata": {
  "kernelspec": {
   "display_name": "Python 3",
   "language": "python",
   "name": "python3"
  },
  "language_info": {
   "codemirror_mode": {
    "name": "ipython",
    "version": 2
   },
   "file_extension": ".py",
   "mimetype": "text/x-python",
   "name": "python",
   "nbconvert_exporter": "python",
   "pygments_lexer": "ipython2",
   "version": "2.7.6"
  }
 },
 "nbformat": 4,
 "nbformat_minor": 0
}
