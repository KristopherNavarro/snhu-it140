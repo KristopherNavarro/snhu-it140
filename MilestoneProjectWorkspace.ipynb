{
 "cells": [
  {
   "cell_type": "markdown",
   "source": [
    "# Milestone Project - Text Based Game\n",
    "--- <b>Project Documentation and Testing</b> ---\n",
    "\n",
    "The purpose of this notebook is to be a repository of notes and test code for the final project of SNHU course IT-140-23EW4. I will be documenting ideas and testing theoretical approaches to my game design. The code written in this notebook will then be compiled into a <code>.py</code> file for final submission.\n"
   ],
   "metadata": {
    "collapsed": false
   }
  },
  {
   "cell_type": "markdown",
   "source": [
    "## Inventory and Attributes\n",
    "During zyBooks lesson 2.2 we learned about <code>namedtuple</code>s. This sparked some thinking regarding how to handle an inventory system in the game. Upon testing out the following visualisation for inventory, it became clear that sticking with a <code>dict</code> is likely the most direct solution."
   ],
   "metadata": {
    "collapsed": false
   }
  },
  {
   "cell_type": "code",
   "execution_count": 121,
   "outputs": [
    {
     "name": "stdout",
     "output_type": "stream",
     "text": [
      "\n",
      "    _____       _____\n",
      "   / /  \\ \\    / /  \\ \\\n",
      "  / /   /-----------------\\\n",
      " / /   |\\________@________/|\n",
      "| |    |  Health [ **** ]  |\n",
      "| |    |  Magic  [ **** ]  |\n",
      "| |    |   -------------   |\n",
      "| |    |  Slot 1 [  axe ]  |\n",
      "| |    |  Slot 2 [ fire ]  |\n",
      " \\ \\   |  Slot 3 [  key ]  |\n",
      "   \\\\_//\\_________________/\n",
      "\n",
      "\n"
     ]
    }
   ],
   "source": [
    "# Milestone Project\n",
    "# text based game\n",
    "# this is a draft of the inventory assessment\n",
    "\n",
    "health = '****'\n",
    "magic = '****'\n",
    "inventory = {'slot1':' axe', 'slot2':'fire', 'slot3':' key'}\n",
    "\n",
    "backpack = rf'''\n",
    "    _____       _____\n",
    "   / /  \\ \\    / /  \\ \\\n",
    "  / /   /-----------------\\\n",
    " / /   |\\________@________/|\n",
    "| |    |  Health [ {health} ]  |\n",
    "| |    |  Magic  [ {magic} ]  |\n",
    "| |    |   -------------   |\n",
    "| |    |  Slot 1 [ {inventory['slot1']} ]  |\n",
    "| |    |  Slot 2 [ {inventory['slot2']} ]  |\n",
    " \\ \\   |  Slot 3 [ {inventory['slot3']} ]  |\n",
    "   \\\\_//\\_________________/\n",
    "\n",
    "'''\n",
    "\n",
    "print(backpack)"
   ],
   "metadata": {
    "collapsed": false
   }
  },
  {
   "cell_type": "markdown",
   "source": [
    "## Navigation and Mapping\n",
    "\n",
    "It occurs to me that nested <code>dict</code>s might also be the way to go for managing navigation and mapping. \n"
   ],
   "metadata": {
    "collapsed": false
   }
  },
  {
   "cell_type": "code",
   "execution_count": 58,
   "outputs": [],
   "source": [
    "map =   {'Foyer':{\n",
    "            'south':'Great Hall'\n",
    "            },\n",
    "        'Great Hall':{\n",
    "            'north':'Entry',\n",
    "            'west':'Study',\n",
    "            'east':'Lavatory'\n",
    "            },\n",
    "        'Study':{\n",
    "            'east':'Great Hall',\n",
    "            'south':'Secret Passage!'\n",
    "            },\n",
    "        'Lavatory':{\n",
    "            'west':'Great Hall'\n",
    "            }\n",
    "        }\n"
   ],
   "metadata": {
    "collapsed": false
   }
  },
  {
   "cell_type": "code",
   "execution_count": 126,
   "outputs": [],
   "source": [
    "current_room = 'Foyer'\n",
    "bread_crumbs = ['Foyer']\n",
    "cardinal_short = {'north':'N','south':'S','east':'E','west':'W'}\n",
    "\n",
    "# Create a function that handles player's movement from room to room.\n",
    "# It will take one argument, the direction the player wishes to travel\n",
    "# it will retrieve the current_room then parse the 'map' dict for first the current_room then the direction headed to get the next room\n",
    "# It will print out a confirmation of heading and the name of the new room\n",
    "# append the new room to a list that saves all the previous rooms traveled\n",
    "\n",
    "def move(direction):\n",
    "    global current_room\n",
    "    global map\n",
    "\n",
    "    moving_to = map[current_room][direction]\n",
    "    bread_crumbs.append(cardinal_short[direction])\n",
    "    bread_crumbs.append(moving_to)\n",
    "    current_room = moving_to\n",
    "    print(f'''\n",
    "Heading... {direction}...\n",
    "...\n",
    "Current room: {current_room}\n",
    "Last room: {bread_crumbs[-3]}''')\n"
   ],
   "metadata": {
    "collapsed": false
   }
  },
  {
   "cell_type": "code",
   "execution_count": 131,
   "outputs": [
    {
     "name": "stdout",
     "output_type": "stream",
     "text": [
      "Great Hall\n"
     ]
    }
   ],
   "source": [
    "print(current_room)"
   ],
   "metadata": {
    "collapsed": false
   }
  },
  {
   "cell_type": "code",
   "execution_count": 132,
   "outputs": [
    {
     "ename": "KeyError",
     "evalue": "'south'",
     "output_type": "error",
     "traceback": [
      "\u001B[1;31m---------------------------------------------------------------------------\u001B[0m",
      "\u001B[1;31mKeyError\u001B[0m                                  Traceback (most recent call last)",
      "Input \u001B[1;32mIn [132]\u001B[0m, in \u001B[0;36m<cell line: 1>\u001B[1;34m()\u001B[0m\n\u001B[1;32m----> 1\u001B[0m \u001B[43mmove\u001B[49m\u001B[43m(\u001B[49m\u001B[38;5;28;43minput\u001B[39;49m\u001B[43m(\u001B[49m\u001B[38;5;124;43m'\u001B[39;49m\u001B[38;5;124;43mWhich direction? \u001B[39;49m\u001B[38;5;124;43m'\u001B[39;49m\u001B[43m)\u001B[49m\u001B[43m)\u001B[49m\n",
      "Input \u001B[1;32mIn [126]\u001B[0m, in \u001B[0;36mmove\u001B[1;34m(direction)\u001B[0m\n\u001B[0;32m     12\u001B[0m \u001B[38;5;28;01mglobal\u001B[39;00m current_room\n\u001B[0;32m     13\u001B[0m \u001B[38;5;28;01mglobal\u001B[39;00m \u001B[38;5;28mmap\u001B[39m\n\u001B[1;32m---> 15\u001B[0m moving_to \u001B[38;5;241m=\u001B[39m \u001B[38;5;28;43mmap\u001B[39;49m\u001B[43m[\u001B[49m\u001B[43mcurrent_room\u001B[49m\u001B[43m]\u001B[49m\u001B[43m[\u001B[49m\u001B[43mdirection\u001B[49m\u001B[43m]\u001B[49m\n\u001B[0;32m     16\u001B[0m bread_crumbs\u001B[38;5;241m.\u001B[39mappend(cardinal_short[direction])\n\u001B[0;32m     17\u001B[0m bread_crumbs\u001B[38;5;241m.\u001B[39mappend(moving_to)\n",
      "\u001B[1;31mKeyError\u001B[0m: 'south'"
     ]
    }
   ],
   "source": [
    "move(input('Which direction? '))"
   ],
   "metadata": {
    "collapsed": false
   }
  },
  {
   "cell_type": "code",
   "execution_count": 129,
   "outputs": [
    {
     "name": "stdout",
     "output_type": "stream",
     "text": [
      "['Foyer', 'S', 'Great Hall']\n"
     ]
    }
   ],
   "source": [
    "print(bread_crumbs)"
   ],
   "metadata": {
    "collapsed": false
   }
  },
  {
   "cell_type": "markdown",
   "source": [
    "## Visual Effects\n",
    "### Typewriter effect\n",
    "While looking up how to create a simple animation like the spinning bar ( -\\\\|/-\\\\|/- ), I stumbled upon a typewriter effect using the <code>sleep</code> module from the <code>time</code> package. Here is the StackOverflow link:\n",
    "[StackOverflow - create-a-typewriter-effect-animation-for-strings-in-python](https://stackoverflow.com/questions/19911346/create-a-typewriter-effect-animation-for-strings-in-python)"
   ],
   "metadata": {
    "collapsed": false
   }
  },
  {
   "cell_type": "code",
   "execution_count": 78,
   "outputs": [
    {
     "name": "stdout",
     "output_type": "stream",
     "text": [
      "I am writing this on a typewriter..."
     ]
    }
   ],
   "source": [
    "from time import sleep\n",
    "\n",
    "test_string = 'I am writing this on a typewriter...'\n",
    "\n",
    "for ch in test_string:\n",
    "\n",
    "    print(ch, end='',flush=True)\n",
    "    sleep(0.05)"
   ],
   "metadata": {
    "collapsed": false
   }
  },
  {
   "cell_type": "markdown",
   "source": [
    "That turned out well. If the <code>flush</code> parameter is left out, then the print function buffers, which causes some of the printed characters to appear at seemingly the same time. It just didn't look right, but having varying <code>sleep</code> times for each character would help it seem more natural. Luckily in the same thread was the answer to this:"
   ],
   "metadata": {
    "collapsed": false
   }
  },
  {
   "cell_type": "code",
   "execution_count": 122,
   "outputs": [],
   "source": [
    "from random import uniform\n",
    "from time import sleep\n",
    "\n",
    "test_string2 = 'I am writing this on a typewriter... really, I am!'\n",
    "\n",
    "# The following function started off as just a for-loop\n",
    "def typwriter(string):\n",
    "    for ch in string:\n",
    "        variability.append(utc_timestamp()) # the code related to time-studies is below\n",
    "        print(ch, end='', flush=True)\n",
    "        sleep(uniform(0.01,0.2))\n"
   ],
   "metadata": {
    "collapsed": false
   }
  },
  {
   "cell_type": "markdown",
   "source": [
    "## Time-study\n",
    "Semi-unrelated to this project, I would like to test the variability created by the <code>sleep.uniform()</code> method. After testing a few different ways, creating a function that returns a UTC timestamp is probably the most efficient option as of now."
   ],
   "metadata": {
    "collapsed": false
   }
  },
  {
   "cell_type": "code",
   "execution_count": 116,
   "outputs": [],
   "source": [
    "from datetime import datetime\n",
    "from datetime import timezone\n",
    "variability = []\n",
    "\n",
    "def utc_timestamp():\n",
    "    dt = datetime.utcnow()\n",
    "    utc_time = dt.replace(tzinfo=timezone.utc)\n",
    "    utc_timestamp = utc_time.timestamp()\n",
    "    return utc_timestamp"
   ],
   "metadata": {
    "collapsed": false
   }
  },
  {
   "cell_type": "markdown",
   "source": [
    "Now to test out the <code>typwriter</code> function:"
   ],
   "metadata": {
    "collapsed": false
   }
  },
  {
   "cell_type": "code",
   "execution_count": 117,
   "outputs": [
    {
     "name": "stdout",
     "output_type": "stream",
     "text": [
      "There was a still-life on Billy Pilgrim's side table."
     ]
    }
   ],
   "source": [
    "typewriter_test = 'There was a still-life on Billy Pilgrim\\'s side table.'\n",
    "\n",
    "typwriter(typewriter_test)"
   ],
   "metadata": {
    "collapsed": false
   }
  },
  {
   "cell_type": "code",
   "execution_count": 115,
   "outputs": [
    {
     "name": "stdout",
     "output_type": "stream",
     "text": [
      "[1678251863.828857,\n",
      " 1678251863.962873,\n",
      " 1678251864.115517,\n",
      " 1678251864.254944,\n",
      " 1678251864.287276,\n",
      " 1678251864.411298,\n",
      " 1678251864.5516,\n",
      " 1678251864.642022,\n",
      " 1678251864.754937,\n",
      " 1678251864.927898,\n",
      " 1678251864.96561,\n",
      " 1678251865.03403,\n",
      " 1678251865.161736,\n",
      " 1678251865.20979,\n",
      " 1678251865.353562,\n",
      " 1678251865.433193,\n",
      " 1678251865.480491,\n",
      " 1678251865.584429,\n",
      " 1678251865.647478,\n",
      " 1678251865.726163,\n",
      " 1678251865.852631,\n",
      " 1678251866.036621,\n",
      " 1678251866.195524,\n",
      " 1678251866.258908,\n",
      " 1678251866.401903,\n",
      " 1678251866.433461,\n",
      " 1678251866.465271,\n",
      " 1678251866.595962,\n",
      " 1678251866.771294,\n",
      " 1678251866.897961,\n",
      " 1678251867.009515,\n",
      " 1678251867.051315,\n",
      " 1678251867.161343,\n",
      " 1678251867.240092,\n",
      " 1678251867.318793,\n",
      " 1678251867.334425,\n",
      " 1678251867.429584,\n",
      " 1678251867.492831,\n",
      " 1678251867.589459,\n",
      " 1678251867.71585,\n",
      " 1678251867.874899,\n",
      " 1678251868.0026,\n",
      " 1678251868.184171,\n",
      " 1678251868.215947,\n",
      " 1678251868.263819,\n",
      " 1678251868.342565,\n",
      " 1678251868.516316,\n",
      " 1678251868.643652,\n",
      " 1678251868.801741,\n",
      " 1678251868.928275,\n",
      " 1678251869.070133,\n",
      " 1678251869.128526,\n",
      " 1678251869.191529]\n"
     ]
    }
   ],
   "source": [
    "pprint(variability)"
   ],
   "metadata": {
    "collapsed": false
   }
  },
  {
   "cell_type": "markdown",
   "source": [
    "## Error Handling\n",
    "The first error I potentially see popping up is a <code>KeyError</code> where the user provides a non-existant key for the direction they wish to move.\n",
    "\n",
    "Example: The starting room is the 'Foyer' with only the direction 'south' available, anything else will raise a <code>KeyError</code>."
   ],
   "metadata": {
    "collapsed": false
   }
  }
 ],
 "metadata": {
  "kernelspec": {
   "display_name": "Python 3",
   "language": "python",
   "name": "python3"
  },
  "language_info": {
   "codemirror_mode": {
    "name": "ipython",
    "version": 2
   },
   "file_extension": ".py",
   "mimetype": "text/x-python",
   "name": "python",
   "nbconvert_exporter": "python",
   "pygments_lexer": "ipython2",
   "version": "2.7.6"
  }
 },
 "nbformat": 4,
 "nbformat_minor": 0
}
